{
 "cells": [
  {
   "cell_type": "code",
   "execution_count": 1,
   "metadata": {},
   "outputs": [
    {
     "name": "stderr",
     "output_type": "stream",
     "text": [
      "C:\\Users\\sonih\\anaconda3\\lib\\importlib\\_bootstrap.py:219: RuntimeWarning: numpy.ufunc size changed, may indicate binary incompatibility. Expected 192 from C header, got 216 from PyObject\n",
      "  return f(*args, **kwds)\n"
     ]
    }
   ],
   "source": [
    "import pandas as pd\n",
    "import numpy as np\n",
    "import matplotlib.pyplot as plt\n",
    "%matplotlib inline"
   ]
  },
  {
   "cell_type": "code",
   "execution_count": 2,
   "metadata": {},
   "outputs": [
    {
     "data": {
      "text/html": [
       "<div>\n",
       "<style scoped>\n",
       "    .dataframe tbody tr th:only-of-type {\n",
       "        vertical-align: middle;\n",
       "    }\n",
       "\n",
       "    .dataframe tbody tr th {\n",
       "        vertical-align: top;\n",
       "    }\n",
       "\n",
       "    .dataframe thead th {\n",
       "        text-align: right;\n",
       "    }\n",
       "</style>\n",
       "<table border=\"1\" class=\"dataframe\">\n",
       "  <thead>\n",
       "    <tr style=\"text-align: right;\">\n",
       "      <th></th>\n",
       "      <th>Unnamed: 0</th>\n",
       "      <th>price</th>\n",
       "      <th>speed</th>\n",
       "      <th>hd</th>\n",
       "      <th>ram</th>\n",
       "      <th>screen</th>\n",
       "      <th>cd</th>\n",
       "      <th>multi</th>\n",
       "      <th>premium</th>\n",
       "      <th>ads</th>\n",
       "      <th>trend</th>\n",
       "    </tr>\n",
       "  </thead>\n",
       "  <tbody>\n",
       "    <tr>\n",
       "      <th>0</th>\n",
       "      <td>1</td>\n",
       "      <td>1499</td>\n",
       "      <td>25</td>\n",
       "      <td>80</td>\n",
       "      <td>4</td>\n",
       "      <td>14</td>\n",
       "      <td>no</td>\n",
       "      <td>no</td>\n",
       "      <td>yes</td>\n",
       "      <td>94</td>\n",
       "      <td>1</td>\n",
       "    </tr>\n",
       "    <tr>\n",
       "      <th>1</th>\n",
       "      <td>2</td>\n",
       "      <td>1795</td>\n",
       "      <td>33</td>\n",
       "      <td>85</td>\n",
       "      <td>2</td>\n",
       "      <td>14</td>\n",
       "      <td>no</td>\n",
       "      <td>no</td>\n",
       "      <td>yes</td>\n",
       "      <td>94</td>\n",
       "      <td>1</td>\n",
       "    </tr>\n",
       "    <tr>\n",
       "      <th>2</th>\n",
       "      <td>3</td>\n",
       "      <td>1595</td>\n",
       "      <td>25</td>\n",
       "      <td>170</td>\n",
       "      <td>4</td>\n",
       "      <td>15</td>\n",
       "      <td>no</td>\n",
       "      <td>no</td>\n",
       "      <td>yes</td>\n",
       "      <td>94</td>\n",
       "      <td>1</td>\n",
       "    </tr>\n",
       "    <tr>\n",
       "      <th>3</th>\n",
       "      <td>4</td>\n",
       "      <td>1849</td>\n",
       "      <td>25</td>\n",
       "      <td>170</td>\n",
       "      <td>8</td>\n",
       "      <td>14</td>\n",
       "      <td>no</td>\n",
       "      <td>no</td>\n",
       "      <td>no</td>\n",
       "      <td>94</td>\n",
       "      <td>1</td>\n",
       "    </tr>\n",
       "    <tr>\n",
       "      <th>4</th>\n",
       "      <td>5</td>\n",
       "      <td>3295</td>\n",
       "      <td>33</td>\n",
       "      <td>340</td>\n",
       "      <td>16</td>\n",
       "      <td>14</td>\n",
       "      <td>no</td>\n",
       "      <td>no</td>\n",
       "      <td>yes</td>\n",
       "      <td>94</td>\n",
       "      <td>1</td>\n",
       "    </tr>\n",
       "  </tbody>\n",
       "</table>\n",
       "</div>"
      ],
      "text/plain": [
       "   Unnamed: 0  price  speed   hd  ram  screen  cd multi premium  ads  trend\n",
       "0           1   1499     25   80    4      14  no    no     yes   94      1\n",
       "1           2   1795     33   85    2      14  no    no     yes   94      1\n",
       "2           3   1595     25  170    4      15  no    no     yes   94      1\n",
       "3           4   1849     25  170    8      14  no    no      no   94      1\n",
       "4           5   3295     33  340   16      14  no    no     yes   94      1"
      ]
     },
     "execution_count": 2,
     "metadata": {},
     "output_type": "execute_result"
    }
   ],
   "source": [
    "comp=pd.read_csv(\"C:\\\\Users\\\\sonih\\\\Downloads\\\\Computer_Data.csv\")\n",
    "comp.head()"
   ]
  },
  {
   "cell_type": "code",
   "execution_count": 3,
   "metadata": {},
   "outputs": [
    {
     "name": "stderr",
     "output_type": "stream",
     "text": [
      "C:\\Users\\sonih\\anaconda3\\lib\\importlib\\_bootstrap.py:219: RuntimeWarning: numpy.ufunc size changed, may indicate binary incompatibility. Expected 192 from C header, got 216 from PyObject\n",
      "  return f(*args, **kwds)\n"
     ]
    }
   ],
   "source": [
    "import seaborn as sbn\n",
    "import statsmodels.api as sts"
   ]
  },
  {
   "cell_type": "code",
   "execution_count": 4,
   "metadata": {},
   "outputs": [
    {
     "data": {
      "text/plain": [
       "<matplotlib.axes._subplots.AxesSubplot at 0x25e196e1848>"
      ]
     },
     "execution_count": 4,
     "metadata": {},
     "output_type": "execute_result"
    },
    {
     "data": {
      "image/png": "[encoded data removed]",
      "text/plain": [
       "<Figure size 432x288 with 2 Axes>"
      ]
     },
     "metadata": {
      "needs_background": "light"
     },
     "output_type": "display_data"
    }
   ],
   "source": [
    "sbn.heatmap(comp.isnull(),yticklabels=False)"
   ]
  },
  {
   "cell_type": "code",
   "execution_count": 5,
   "metadata": {},
   "outputs": [
    {
     "data": {
      "image/png": "[encoded data removed]",
      "text/plain": [
       "<Figure size 432x288 with 1 Axes>"
      ]
     },
     "metadata": {
      "needs_background": "light"
     },
     "output_type": "display_data"
    },
    {
     "data": {
      "image/png": "[encoded data removed]",
      "text/plain": [
       "<Figure size 432x288 with 1 Axes>"
      ]
     },
     "metadata": {
      "needs_background": "light"
     },
     "output_type": "display_data"
    },
    {
     "data": {
      "image/png": "[encoded data removed]",
      "text/plain": [
       "<Figure size 432x288 with 1 Axes>"
      ]
     },
     "metadata": {
      "needs_background": "light"
     },
     "output_type": "display_data"
    },
    {
     "data": {
      "image/png": "[encoded data removed]",
      "text/plain": [
       "<Figure size 432x288 with 1 Axes>"
      ]
     },
     "metadata": {
      "needs_background": "light"
     },
     "output_type": "display_data"
    },
    {
     "data": {
      "image/png": "[encoded data removed]",
      "text/plain": [
       "<Figure size 432x288 with 1 Axes>"
      ]
     },
     "metadata": {
      "needs_background": "light"
     },
     "output_type": "display_data"
    },
    {
     "data": {
      "image/png": "[encoded data removed]",
      "text/plain": [
       "<Figure size 432x288 with 1 Axes>"
      ]
     },
     "metadata": {
      "needs_background": "light"
     },
     "output_type": "display_data"
    },
    {
     "data": {
      "image/png": "[encoded data removed]",
      "text/plain": [
       "<Figure size 432x288 with 1 Axes>"
      ]
     },
     "metadata": {
      "needs_background": "light"
     },
     "output_type": "display_data"
    },
    {
     "data": {
      "image/png": "[encoded data removed]",
      "text/plain": [
       "<Figure size 432x288 with 1 Axes>"
      ]
     },
     "metadata": {
      "needs_background": "light"
     },
     "output_type": "display_data"
    },
    {
     "data": {
      "image/png": "[encoded data removed]",
      "text/plain": [
       "<Figure size 432x288 with 1 Axes>"
      ]
     },
     "metadata": {
      "needs_background": "light"
     },
     "output_type": "display_data"
    },
    {
     "data": {
      "image/png": "[encoded data removed]",
      "text/plain": [
       "<Figure size 432x288 with 1 Axes>"
      ]
     },
     "metadata": {
      "needs_background": "light"
     },
     "output_type": "display_data"
    },
    {
     "data": {
      "image/png": "[encoded data removed]",
      "text/plain": [
       "<Figure size 432x288 with 1 Axes>"
      ]
     },
     "metadata": {
      "needs_background": "light"
     },
     "output_type": "display_data"
    }
   ],
   "source": [
    "for feature in comp.columns:\n",
    "    comp.groupby(feature)['price'].median().plot.bar()\n",
    "    plt.xlabel(feature)\n",
    "    plt.ylabel('Price')\n",
    "    plt.title(feature)\n",
    "    plt.show()"
   ]
  },
  {
   "cell_type": "code",
   "execution_count": 6,
   "metadata": {},
   "outputs": [
    {
     "data": {
      "text/html": [
       "<div>\n",
       "<style scoped>\n",
       "    .dataframe tbody tr th:only-of-type {\n",
       "        vertical-align: middle;\n",
       "    }\n",
       "\n",
       "    .dataframe tbody tr th {\n",
       "        vertical-align: top;\n",
       "    }\n",
       "\n",
       "    .dataframe thead th {\n",
       "        text-align: right;\n",
       "    }\n",
       "</style>\n",
       "<table border=\"1\" class=\"dataframe\">\n",
       "  <thead>\n",
       "    <tr style=\"text-align: right;\">\n",
       "      <th></th>\n",
       "      <th>price</th>\n",
       "      <th>speed</th>\n",
       "      <th>hd</th>\n",
       "      <th>ram</th>\n",
       "      <th>screen</th>\n",
       "      <th>cd</th>\n",
       "      <th>multi</th>\n",
       "      <th>premium</th>\n",
       "      <th>ads</th>\n",
       "      <th>trend</th>\n",
       "    </tr>\n",
       "  </thead>\n",
       "  <tbody>\n",
       "    <tr>\n",
       "      <th>0</th>\n",
       "      <td>1499</td>\n",
       "      <td>25</td>\n",
       "      <td>80</td>\n",
       "      <td>4</td>\n",
       "      <td>14</td>\n",
       "      <td>no</td>\n",
       "      <td>no</td>\n",
       "      <td>yes</td>\n",
       "      <td>94</td>\n",
       "      <td>1</td>\n",
       "    </tr>\n",
       "    <tr>\n",
       "      <th>1</th>\n",
       "      <td>1795</td>\n",
       "      <td>33</td>\n",
       "      <td>85</td>\n",
       "      <td>2</td>\n",
       "      <td>14</td>\n",
       "      <td>no</td>\n",
       "      <td>no</td>\n",
       "      <td>yes</td>\n",
       "      <td>94</td>\n",
       "      <td>1</td>\n",
       "    </tr>\n",
       "    <tr>\n",
       "      <th>2</th>\n",
       "      <td>1595</td>\n",
       "      <td>25</td>\n",
       "      <td>170</td>\n",
       "      <td>4</td>\n",
       "      <td>15</td>\n",
       "      <td>no</td>\n",
       "      <td>no</td>\n",
       "      <td>yes</td>\n",
       "      <td>94</td>\n",
       "      <td>1</td>\n",
       "    </tr>\n",
       "    <tr>\n",
       "      <th>3</th>\n",
       "      <td>1849</td>\n",
       "      <td>25</td>\n",
       "      <td>170</td>\n",
       "      <td>8</td>\n",
       "      <td>14</td>\n",
       "      <td>no</td>\n",
       "      <td>no</td>\n",
       "      <td>no</td>\n",
       "      <td>94</td>\n",
       "      <td>1</td>\n",
       "    </tr>\n",
       "    <tr>\n",
       "      <th>4</th>\n",
       "      <td>3295</td>\n",
       "      <td>33</td>\n",
       "      <td>340</td>\n",
       "      <td>16</td>\n",
       "      <td>14</td>\n",
       "      <td>no</td>\n",
       "      <td>no</td>\n",
       "      <td>yes</td>\n",
       "      <td>94</td>\n",
       "      <td>1</td>\n",
       "    </tr>\n",
       "  </tbody>\n",
       "</table>\n",
       "</div>"
      ],
      "text/plain": [
       "   price  speed   hd  ram  screen  cd multi premium  ads  trend\n",
       "0   1499     25   80    4      14  no    no     yes   94      1\n",
       "1   1795     33   85    2      14  no    no     yes   94      1\n",
       "2   1595     25  170    4      15  no    no     yes   94      1\n",
       "3   1849     25  170    8      14  no    no      no   94      1\n",
       "4   3295     33  340   16      14  no    no     yes   94      1"
      ]
     },
     "execution_count": 6,
     "metadata": {},
     "output_type": "execute_result"
    }
   ],
   "source": [
    "comp=comp.drop(['Unnamed: 0'],axis=1)\n",
    "comp.head()"
   ]
  },
  {
   "cell_type": "code",
   "execution_count": 7,
   "metadata": {},
   "outputs": [],
   "source": [
    "comp['cd']=pd.get_dummies(comp['cd'],drop_first=True)\n",
    "comp['multi']=pd.get_dummies(comp['multi'],drop_first=True)\n",
    "comp['premium']=pd.get_dummies(comp['premium'],drop_first=True)"
   ]
  },
  {
   "cell_type": "code",
   "execution_count": 8,
   "metadata": {},
   "outputs": [],
   "source": [
    "X=comp.iloc[:,1:]\n",
    "y=comp.iloc[:,:1]"
   ]
  },
  {
   "cell_type": "code",
   "execution_count": 9,
   "metadata": {},
   "outputs": [],
   "source": [
    "model=sts.OLS(y,X).fit()"
   ]
  },
  {
   "cell_type": "code",
   "execution_count": 10,
   "metadata": {},
   "outputs": [
    {
     "data": {
      "text/html": [
       "<table class=\"simpletable\">\n",
       "<caption>OLS Regression Results</caption>\n",
       "<tr>\n",
       "  <th>Dep. Variable:</th>          <td>price</td>      <th>  R-squared (uncentered):</th>      <td>   0.986</td> \n",
       "</tr>\n",
       "<tr>\n",
       "  <th>Model:</th>                   <td>OLS</td>       <th>  Adj. R-squared (uncentered):</th> <td>   0.986</td> \n",
       "</tr>\n",
       "<tr>\n",
       "  <th>Method:</th>             <td>Least Squares</td>  <th>  F-statistic:       </th>          <td>4.740e+04</td>\n",
       "</tr>\n",
       "<tr>\n",
       "  <th>Date:</th>             <td>Sat, 06 Jun 2020</td> <th>  Prob (F-statistic):</th>           <td>  0.00</td>  \n",
       "</tr>\n",
       "<tr>\n",
       "  <th>Time:</th>                 <td>21:29:56</td>     <th>  Log-Likelihood:    </th>          <td> -44052.</td> \n",
       "</tr>\n",
       "<tr>\n",
       "  <th>No. Observations:</th>      <td>  6259</td>      <th>  AIC:               </th>          <td>8.812e+04</td>\n",
       "</tr>\n",
       "<tr>\n",
       "  <th>Df Residuals:</th>          <td>  6250</td>      <th>  BIC:               </th>          <td>8.818e+04</td>\n",
       "</tr>\n",
       "<tr>\n",
       "  <th>Df Model:</th>              <td>     9</td>      <th>                     </th>              <td> </td>    \n",
       "</tr>\n",
       "<tr>\n",
       "  <th>Covariance Type:</th>      <td>nonrobust</td>    <th>                     </th>              <td> </td>    \n",
       "</tr>\n",
       "</table>\n",
       "<table class=\"simpletable\">\n",
       "<tr>\n",
       "     <td></td>        <th>coef</th>     <th>std err</th>      <th>t</th>      <th>P>|t|</th>  <th>[0.025</th>    <th>0.975]</th>  \n",
       "</tr>\n",
       "<tr>\n",
       "  <th>speed</th>   <td>    9.3310</td> <td>    0.185</td> <td>   50.325</td> <td> 0.000</td> <td>    8.968</td> <td>    9.695</td>\n",
       "</tr>\n",
       "<tr>\n",
       "  <th>hd</th>      <td>    0.7786</td> <td>    0.028</td> <td>   28.146</td> <td> 0.000</td> <td>    0.724</td> <td>    0.833</td>\n",
       "</tr>\n",
       "<tr>\n",
       "  <th>ram</th>     <td>   48.0928</td> <td>    1.068</td> <td>   45.042</td> <td> 0.000</td> <td>   46.000</td> <td>   50.186</td>\n",
       "</tr>\n",
       "<tr>\n",
       "  <th>screen</th>  <td>  142.1451</td> <td>    1.435</td> <td>   99.043</td> <td> 0.000</td> <td>  139.332</td> <td>  144.959</td>\n",
       "</tr>\n",
       "<tr>\n",
       "  <th>cd</th>      <td>   56.3969</td> <td>    9.493</td> <td>    5.941</td> <td> 0.000</td> <td>   37.787</td> <td>   75.007</td>\n",
       "</tr>\n",
       "<tr>\n",
       "  <th>multi</th>   <td>  106.5261</td> <td>   11.427</td> <td>    9.322</td> <td> 0.000</td> <td>   84.125</td> <td>  128.928</td>\n",
       "</tr>\n",
       "<tr>\n",
       "  <th>premium</th> <td> -494.9547</td> <td>   12.045</td> <td>  -41.091</td> <td> 0.000</td> <td> -518.568</td> <td> -471.342</td>\n",
       "</tr>\n",
       "<tr>\n",
       "  <th>ads</th>     <td>    0.7292</td> <td>    0.049</td> <td>   14.748</td> <td> 0.000</td> <td>    0.632</td> <td>    0.826</td>\n",
       "</tr>\n",
       "<tr>\n",
       "  <th>trend</th>   <td>  -51.6160</td> <td>    0.628</td> <td>  -82.153</td> <td> 0.000</td> <td>  -52.848</td> <td>  -50.384</td>\n",
       "</tr>\n",
       "</table>\n",
       "<table class=\"simpletable\">\n",
       "<tr>\n",
       "  <th>Omnibus:</th>       <td>993.429</td> <th>  Durbin-Watson:     </th> <td>   1.936</td>\n",
       "</tr>\n",
       "<tr>\n",
       "  <th>Prob(Omnibus):</th> <td> 0.000</td>  <th>  Jarque-Bera (JB):  </th> <td>2966.136</td>\n",
       "</tr>\n",
       "<tr>\n",
       "  <th>Skew:</th>          <td> 0.831</td>  <th>  Prob(JB):          </th> <td>    0.00</td>\n",
       "</tr>\n",
       "<tr>\n",
       "  <th>Kurtosis:</th>      <td> 5.935</td>  <th>  Cond. No.          </th> <td>1.91e+03</td>\n",
       "</tr>\n",
       "</table><br/><br/>Warnings:<br/>[1] Standard Errors assume that the covariance matrix of the errors is correctly specified.<br/>[2] The condition number is large, 1.91e+03. This might indicate that there are<br/>strong multicollinearity or other numerical problems."
      ],
      "text/plain": [
       "<class 'statsmodels.iolib.summary.Summary'>\n",
       "\"\"\"\n",
       "                                 OLS Regression Results                                \n",
       "=======================================================================================\n",
       "Dep. Variable:                  price   R-squared (uncentered):                   0.986\n",
       "Model:                            OLS   Adj. R-squared (uncentered):              0.986\n",
       "Method:                 Least Squares   F-statistic:                          4.740e+04\n",
       "Date:                Sat, 06 Jun 2020   Prob (F-statistic):                        0.00\n",
       "Time:                        21:29:56   Log-Likelihood:                         -44052.\n",
       "No. Observations:                6259   AIC:                                  8.812e+04\n",
       "Df Residuals:                    6250   BIC:                                  8.818e+04\n",
       "Df Model:                           9                                                  \n",
       "Covariance Type:            nonrobust                                                  \n",
       "==============================================================================\n",
       "                 coef    std err          t      P>|t|      [0.025      0.975]\n",
       "------------------------------------------------------------------------------\n",
       "speed          9.3310      0.185     50.325      0.000       8.968       9.695\n",
       "hd             0.7786      0.028     28.146      0.000       0.724       0.833\n",
       "ram           48.0928      1.068     45.042      0.000      46.000      50.186\n",
       "screen       142.1451      1.435     99.043      0.000     139.332     144.959\n",
       "cd            56.3969      9.493      5.941      0.000      37.787      75.007\n",
       "multi        106.5261     11.427      9.322      0.000      84.125     128.928\n",
       "premium     -494.9547     12.045    -41.091      0.000    -518.568    -471.342\n",
       "ads            0.7292      0.049     14.748      0.000       0.632       0.826\n",
       "trend        -51.6160      0.628    -82.153      0.000     -52.848     -50.384\n",
       "==============================================================================\n",
       "Omnibus:                      993.429   Durbin-Watson:                   1.936\n",
       "Prob(Omnibus):                  0.000   Jarque-Bera (JB):             2966.136\n",
       "Skew:                           0.831   Prob(JB):                         0.00\n",
       "Kurtosis:                       5.935   Cond. No.                     1.91e+03\n",
       "==============================================================================\n",
       "\n",
       "Warnings:\n",
       "[1] Standard Errors assume that the covariance matrix of the errors is correctly specified.\n",
       "[2] The condition number is large, 1.91e+03. This might indicate that there are\n",
       "strong multicollinearity or other numerical problems.\n",
       "\"\"\""
      ]
     },
     "execution_count": 10,
     "metadata": {},
     "output_type": "execute_result"
    }
   ],
   "source": [
    "model.summary()"
   ]
  },
  {
   "cell_type": "code",
   "execution_count": 11,
   "metadata": {},
   "outputs": [],
   "source": [
    "from scipy import stats\n",
    "z=np.abs(stats.zscore(comp))\n",
    "comp=comp[(z<3).all(axis=1)]"
   ]
  },
  {
   "cell_type": "code",
   "execution_count": 12,
   "metadata": {},
   "outputs": [
    {
     "data": {
      "text/html": [
       "<table class=\"simpletable\">\n",
       "<caption>OLS Regression Results</caption>\n",
       "<tr>\n",
       "  <th>Dep. Variable:</th>          <td>price</td>      <th>  R-squared:         </th> <td>   0.806</td> \n",
       "</tr>\n",
       "<tr>\n",
       "  <th>Model:</th>                   <td>OLS</td>       <th>  Adj. R-squared:    </th> <td>   0.805</td> \n",
       "</tr>\n",
       "<tr>\n",
       "  <th>Method:</th>             <td>Least Squares</td>  <th>  F-statistic:       </th> <td>   2852.</td> \n",
       "</tr>\n",
       "<tr>\n",
       "  <th>Date:</th>             <td>Sat, 06 Jun 2020</td> <th>  Prob (F-statistic):</th>  <td>  0.00</td>  \n",
       "</tr>\n",
       "<tr>\n",
       "  <th>Time:</th>                 <td>21:30:00</td>     <th>  Log-Likelihood:    </th> <td> -38036.</td> \n",
       "</tr>\n",
       "<tr>\n",
       "  <th>No. Observations:</th>      <td>  5517</td>      <th>  AIC:               </th> <td>7.609e+04</td>\n",
       "</tr>\n",
       "<tr>\n",
       "  <th>Df Residuals:</th>          <td>  5508</td>      <th>  BIC:               </th> <td>7.615e+04</td>\n",
       "</tr>\n",
       "<tr>\n",
       "  <th>Df Model:</th>              <td>     8</td>      <th>                     </th>     <td> </td>    \n",
       "</tr>\n",
       "<tr>\n",
       "  <th>Covariance Type:</th>      <td>nonrobust</td>    <th>                     </th>     <td> </td>    \n",
       "</tr>\n",
       "</table>\n",
       "<table class=\"simpletable\">\n",
       "<tr>\n",
       "     <td></td>        <th>coef</th>     <th>std err</th>      <th>t</th>      <th>P>|t|</th>  <th>[0.025</th>    <th>0.975]</th>  \n",
       "</tr>\n",
       "<tr>\n",
       "  <th>speed</th>   <td>    8.2135</td> <td>    0.169</td> <td>   48.571</td> <td> 0.000</td> <td>    7.882</td> <td>    8.545</td>\n",
       "</tr>\n",
       "<tr>\n",
       "  <th>hd</th>      <td>    0.5752</td> <td>    0.029</td> <td>   19.648</td> <td> 0.000</td> <td>    0.518</td> <td>    0.633</td>\n",
       "</tr>\n",
       "<tr>\n",
       "  <th>ram</th>     <td>   54.7812</td> <td>    1.029</td> <td>   53.216</td> <td> 0.000</td> <td>   52.763</td> <td>   56.799</td>\n",
       "</tr>\n",
       "<tr>\n",
       "  <th>screen</th>  <td>   93.5509</td> <td>    3.778</td> <td>   24.762</td> <td> 0.000</td> <td>   86.145</td> <td>  100.957</td>\n",
       "</tr>\n",
       "<tr>\n",
       "  <th>cd</th>      <td>   75.1531</td> <td>    8.917</td> <td>    8.428</td> <td> 0.000</td> <td>   57.673</td> <td>   92.633</td>\n",
       "</tr>\n",
       "<tr>\n",
       "  <th>multi</th>   <td>   98.8780</td> <td>   10.138</td> <td>    9.754</td> <td> 0.000</td> <td>   79.004</td> <td>  118.752</td>\n",
       "</tr>\n",
       "<tr>\n",
       "  <th>premium</th> <td>  280.9220</td> <td>   55.722</td> <td>    5.042</td> <td> 0.000</td> <td>  171.685</td> <td>  390.159</td>\n",
       "</tr>\n",
       "<tr>\n",
       "  <th>ads</th>     <td>    0.4715</td> <td>    0.047</td> <td>    9.970</td> <td> 0.000</td> <td>    0.379</td> <td>    0.564</td>\n",
       "</tr>\n",
       "<tr>\n",
       "  <th>trend</th>   <td>  -47.4177</td> <td>    0.603</td> <td>  -78.670</td> <td> 0.000</td> <td>  -48.599</td> <td>  -46.236</td>\n",
       "</tr>\n",
       "</table>\n",
       "<table class=\"simpletable\">\n",
       "<tr>\n",
       "  <th>Omnibus:</th>       <td>801.117</td> <th>  Durbin-Watson:     </th> <td>   1.911</td>\n",
       "</tr>\n",
       "<tr>\n",
       "  <th>Prob(Omnibus):</th> <td> 0.000</td>  <th>  Jarque-Bera (JB):  </th> <td>2395.447</td>\n",
       "</tr>\n",
       "<tr>\n",
       "  <th>Skew:</th>          <td> 0.762</td>  <th>  Prob(JB):          </th> <td>    0.00</td>\n",
       "</tr>\n",
       "<tr>\n",
       "  <th>Kurtosis:</th>      <td> 5.846</td>  <th>  Cond. No.          </th> <td>9.00e+03</td>\n",
       "</tr>\n",
       "</table><br/><br/>Warnings:<br/>[1] Standard Errors assume that the covariance matrix of the errors is correctly specified.<br/>[2] The condition number is large,  9e+03. This might indicate that there are<br/>strong multicollinearity or other numerical problems."
      ],
      "text/plain": [
       "<class 'statsmodels.iolib.summary.Summary'>\n",
       "\"\"\"\n",
       "                            OLS Regression Results                            \n",
       "==============================================================================\n",
       "Dep. Variable:                  price   R-squared:                       0.806\n",
       "Model:                            OLS   Adj. R-squared:                  0.805\n",
       "Method:                 Least Squares   F-statistic:                     2852.\n",
       "Date:                Sat, 06 Jun 2020   Prob (F-statistic):               0.00\n",
       "Time:                        21:30:00   Log-Likelihood:                -38036.\n",
       "No. Observations:                5517   AIC:                         7.609e+04\n",
       "Df Residuals:                    5508   BIC:                         7.615e+04\n",
       "Df Model:                           8                                         \n",
       "Covariance Type:            nonrobust                                         \n",
       "==============================================================================\n",
       "                 coef    std err          t      P>|t|      [0.025      0.975]\n",
       "------------------------------------------------------------------------------\n",
       "speed          8.2135      0.169     48.571      0.000       7.882       8.545\n",
       "hd             0.5752      0.029     19.648      0.000       0.518       0.633\n",
       "ram           54.7812      1.029     53.216      0.000      52.763      56.799\n",
       "screen        93.5509      3.778     24.762      0.000      86.145     100.957\n",
       "cd            75.1531      8.917      8.428      0.000      57.673      92.633\n",
       "multi         98.8780     10.138      9.754      0.000      79.004     118.752\n",
       "premium      280.9220     55.722      5.042      0.000     171.685     390.159\n",
       "ads            0.4715      0.047      9.970      0.000       0.379       0.564\n",
       "trend        -47.4177      0.603    -78.670      0.000     -48.599     -46.236\n",
       "==============================================================================\n",
       "Omnibus:                      801.117   Durbin-Watson:                   1.911\n",
       "Prob(Omnibus):                  0.000   Jarque-Bera (JB):             2395.447\n",
       "Skew:                           0.762   Prob(JB):                         0.00\n",
       "Kurtosis:                       5.846   Cond. No.                     9.00e+03\n",
       "==============================================================================\n",
       "\n",
       "Warnings:\n",
       "[1] Standard Errors assume that the covariance matrix of the errors is correctly specified.\n",
       "[2] The condition number is large,  9e+03. This might indicate that there are\n",
       "strong multicollinearity or other numerical problems.\n",
       "\"\"\""
      ]
     },
     "execution_count": 12,
     "metadata": {},
     "output_type": "execute_result"
    }
   ],
   "source": [
    "X=comp.iloc[:,1:]\n",
    "y=comp.iloc[:,:1]\n",
    "model=sts.OLS(y,X).fit()\n",
    "model.summary()"
   ]
  },
  {
   "cell_type": "code",
   "execution_count": 13,
   "metadata": {},
   "outputs": [
    {
     "data": {
      "text/html": [
       "<div>\n",
       "<style scoped>\n",
       "    .dataframe tbody tr th:only-of-type {\n",
       "        vertical-align: middle;\n",
       "    }\n",
       "\n",
       "    .dataframe tbody tr th {\n",
       "        vertical-align: top;\n",
       "    }\n",
       "\n",
       "    .dataframe thead th {\n",
       "        text-align: right;\n",
       "    }\n",
       "</style>\n",
       "<table border=\"1\" class=\"dataframe\">\n",
       "  <thead>\n",
       "    <tr style=\"text-align: right;\">\n",
       "      <th></th>\n",
       "      <th>speed</th>\n",
       "      <th>hd</th>\n",
       "      <th>ram</th>\n",
       "      <th>screen</th>\n",
       "      <th>cd</th>\n",
       "      <th>multi</th>\n",
       "      <th>premium</th>\n",
       "      <th>ads</th>\n",
       "      <th>trend</th>\n",
       "    </tr>\n",
       "  </thead>\n",
       "  <tbody>\n",
       "    <tr>\n",
       "      <th>speed</th>\n",
       "      <td>1.000000</td>\n",
       "      <td>0.326454</td>\n",
       "      <td>0.181041</td>\n",
       "      <td>0.186475</td>\n",
       "      <td>0.257120</td>\n",
       "      <td>0.078658</td>\n",
       "      <td>NaN</td>\n",
       "      <td>-0.168470</td>\n",
       "      <td>0.392317</td>\n",
       "    </tr>\n",
       "    <tr>\n",
       "      <th>hd</th>\n",
       "      <td>0.326454</td>\n",
       "      <td>1.000000</td>\n",
       "      <td>0.767045</td>\n",
       "      <td>0.238661</td>\n",
       "      <td>0.528429</td>\n",
       "      <td>0.086625</td>\n",
       "      <td>NaN</td>\n",
       "      <td>-0.255190</td>\n",
       "      <td>0.588901</td>\n",
       "    </tr>\n",
       "    <tr>\n",
       "      <th>ram</th>\n",
       "      <td>0.181041</td>\n",
       "      <td>0.767045</td>\n",
       "      <td>1.000000</td>\n",
       "      <td>0.196438</td>\n",
       "      <td>0.418512</td>\n",
       "      <td>0.025386</td>\n",
       "      <td>NaN</td>\n",
       "      <td>-0.089750</td>\n",
       "      <td>0.229284</td>\n",
       "    </tr>\n",
       "    <tr>\n",
       "      <th>screen</th>\n",
       "      <td>0.186475</td>\n",
       "      <td>0.238661</td>\n",
       "      <td>0.196438</td>\n",
       "      <td>1.000000</td>\n",
       "      <td>0.142168</td>\n",
       "      <td>0.001061</td>\n",
       "      <td>NaN</td>\n",
       "      <td>-0.104478</td>\n",
       "      <td>0.188097</td>\n",
       "    </tr>\n",
       "    <tr>\n",
       "      <th>cd</th>\n",
       "      <td>0.257120</td>\n",
       "      <td>0.528429</td>\n",
       "      <td>0.418512</td>\n",
       "      <td>0.142168</td>\n",
       "      <td>1.000000</td>\n",
       "      <td>0.433168</td>\n",
       "      <td>NaN</td>\n",
       "      <td>-0.001025</td>\n",
       "      <td>0.470392</td>\n",
       "    </tr>\n",
       "    <tr>\n",
       "      <th>multi</th>\n",
       "      <td>0.078658</td>\n",
       "      <td>0.086625</td>\n",
       "      <td>0.025386</td>\n",
       "      <td>0.001061</td>\n",
       "      <td>0.433168</td>\n",
       "      <td>1.000000</td>\n",
       "      <td>NaN</td>\n",
       "      <td>-0.013599</td>\n",
       "      <td>0.218697</td>\n",
       "    </tr>\n",
       "    <tr>\n",
       "      <th>premium</th>\n",
       "      <td>NaN</td>\n",
       "      <td>NaN</td>\n",
       "      <td>NaN</td>\n",
       "      <td>NaN</td>\n",
       "      <td>NaN</td>\n",
       "      <td>NaN</td>\n",
       "      <td>NaN</td>\n",
       "      <td>NaN</td>\n",
       "      <td>NaN</td>\n",
       "    </tr>\n",
       "    <tr>\n",
       "      <th>ads</th>\n",
       "      <td>-0.168470</td>\n",
       "      <td>-0.255190</td>\n",
       "      <td>-0.089750</td>\n",
       "      <td>-0.104478</td>\n",
       "      <td>-0.001025</td>\n",
       "      <td>-0.013599</td>\n",
       "      <td>NaN</td>\n",
       "      <td>1.000000</td>\n",
       "      <td>-0.274120</td>\n",
       "    </tr>\n",
       "    <tr>\n",
       "      <th>trend</th>\n",
       "      <td>0.392317</td>\n",
       "      <td>0.588901</td>\n",
       "      <td>0.229284</td>\n",
       "      <td>0.188097</td>\n",
       "      <td>0.470392</td>\n",
       "      <td>0.218697</td>\n",
       "      <td>NaN</td>\n",
       "      <td>-0.274120</td>\n",
       "      <td>1.000000</td>\n",
       "    </tr>\n",
       "  </tbody>\n",
       "</table>\n",
       "</div>"
      ],
      "text/plain": [
       "            speed        hd       ram    screen        cd     multi  premium  \\\n",
       "speed    1.000000  0.326454  0.181041  0.186475  0.257120  0.078658      NaN   \n",
       "hd       0.326454  1.000000  0.767045  0.238661  0.528429  0.086625      NaN   \n",
       "ram      0.181041  0.767045  1.000000  0.196438  0.418512  0.025386      NaN   \n",
       "screen   0.186475  0.238661  0.196438  1.000000  0.142168  0.001061      NaN   \n",
       "cd       0.257120  0.528429  0.418512  0.142168  1.000000  0.433168      NaN   \n",
       "multi    0.078658  0.086625  0.025386  0.001061  0.433168  1.000000      NaN   \n",
       "premium       NaN       NaN       NaN       NaN       NaN       NaN      NaN   \n",
       "ads     -0.168470 -0.255190 -0.089750 -0.104478 -0.001025 -0.013599      NaN   \n",
       "trend    0.392317  0.588901  0.229284  0.188097  0.470392  0.218697      NaN   \n",
       "\n",
       "              ads     trend  \n",
       "speed   -0.168470  0.392317  \n",
       "hd      -0.255190  0.588901  \n",
       "ram     -0.089750  0.229284  \n",
       "screen  -0.104478  0.188097  \n",
       "cd      -0.001025  0.470392  \n",
       "multi   -0.013599  0.218697  \n",
       "premium       NaN       NaN  \n",
       "ads      1.000000 -0.274120  \n",
       "trend   -0.274120  1.000000  "
      ]
     },
     "execution_count": 13,
     "metadata": {},
     "output_type": "execute_result"
    }
   ],
   "source": [
    "X.iloc[:,:].corr()"
   ]
  },
  {
   "cell_type": "code",
   "execution_count": 14,
   "metadata": {},
   "outputs": [],
   "source": [
    "from sklearn.model_selection import train_test_split\n",
    "X_train,X_test,y_train,y_test=train_test_split(X,y,test_size=0.3,random_state=False)"
   ]
  },
  {
   "cell_type": "code",
   "execution_count": 16,
   "metadata": {},
   "outputs": [],
   "source": [
    "from sklearn.linear_model import LinearRegression"
   ]
  },
  {
   "cell_type": "code",
   "execution_count": 18,
   "metadata": {},
   "outputs": [],
   "source": [
    "SLR=LinearRegression()"
   ]
  },
  {
   "cell_type": "code",
   "execution_count": 19,
   "metadata": {},
   "outputs": [
    {
     "data": {
      "text/plain": [
       "LinearRegression(copy_X=True, fit_intercept=True, n_jobs=None, normalize=False)"
      ]
     },
     "execution_count": 19,
     "metadata": {},
     "output_type": "execute_result"
    }
   ],
   "source": [
    "SLR.fit(X_train,y_train)"
   ]
  },
  {
   "cell_type": "code",
   "execution_count": 20,
   "metadata": {},
   "outputs": [],
   "source": [
    "y_pred=SLR.predict(X_test)"
   ]
  },
  {
   "cell_type": "code",
   "execution_count": 22,
   "metadata": {},
   "outputs": [],
   "source": [
    "from sklearn.metrics import r2_score"
   ]
  },
  {
   "cell_type": "code",
   "execution_count": 23,
   "metadata": {},
   "outputs": [
    {
     "name": "stdout",
     "output_type": "stream",
     "text": [
      "0.7945997032469636\n"
     ]
    }
   ],
   "source": [
    "score=r2_score(y_test,y_pred)\n",
    "print(score)"
   ]
  }
 ],
 "metadata": {
  "kernelspec": {
   "display_name": "Python 3",
   "language": "python",
   "name": "python3"
  },
  "language_info": {
   "codemirror_mode": {
    "name": "ipython",
    "version": 3
   },
   "file_extension": ".py",
   "mimetype": "text/x-python",
   "name": "python",
   "nbconvert_exporter": "python",
   "pygments_lexer": "ipython3",
   "version": "3.7.6"
  }
 },
 "nbformat": 4,
 "nbformat_minor": 4
}
